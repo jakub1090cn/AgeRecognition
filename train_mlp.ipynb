{
 "cells": [
  {
   "cell_type": "code",
   "execution_count": 10,
   "metadata": {
    "collapsed": true,
    "ExecuteTime": {
     "end_time": "2024-06-10T12:51:46.752298700Z",
     "start_time": "2024-06-10T12:51:46.657485900Z"
    }
   },
   "outputs": [],
   "source": [
    "def read_data(file_path):\n",
    "    with open(file_path, 'r') as f:\n",
    "        path = f.read().splitlines()\n",
    "    return path\n",
    "\n",
    "\n",
    "train_data = read_data('train_data.txt')\n",
    "val_data = read_data('val_data.txt')"
   ]
  },
  {
   "cell_type": "code",
   "execution_count": 11,
   "outputs": [
    {
     "data": {
      "text/plain": "['data/20-50/train\\\\35\\\\163892.jpg',\n 'data/20-50/train\\\\43\\\\137807.jpg',\n 'data/20-50/train\\\\37\\\\174673.jpg',\n 'data/20-50/train\\\\29\\\\173118.jpg',\n 'data/20-50/train\\\\36\\\\159522.jpg',\n 'data/20-50/train\\\\21\\\\153412.jpg',\n 'data/20-50/train\\\\29\\\\158739.jpg',\n 'data/20-50/train\\\\39\\\\157937.jpg',\n 'data/20-50/train\\\\49\\\\150977.jpg',\n 'data/20-50/train\\\\32\\\\167695.jpg',\n 'data/20-50/train\\\\26\\\\148888.jpg',\n 'data/20-50/train\\\\36\\\\167666.jpg',\n 'data/20-50/train\\\\32\\\\151209.jpg',\n 'data/20-50/train\\\\23\\\\157141.jpg',\n 'data/20-50/train\\\\30\\\\175537.jpg',\n 'data/20-50/train\\\\44\\\\169274.jpg',\n 'data/20-50/train\\\\30\\\\172298.jpg',\n 'data/20-50/train\\\\49\\\\124702.jpg',\n 'data/20-50/train\\\\45\\\\163197.jpg',\n 'data/20-50/train\\\\49\\\\126843.jpg',\n 'data/20-50/train\\\\50\\\\110168.jpg',\n 'data/20-50/train\\\\24\\\\159414.jpg',\n 'data/20-50/train\\\\29\\\\174117.jpg',\n 'data/20-50/train\\\\30\\\\152893.jpg',\n 'data/20-50/train\\\\44\\\\151788.jpg',\n 'data/20-50/train\\\\25\\\\151509.jpg',\n 'data/20-50/train\\\\49\\\\139499.jpg',\n 'data/20-50/train\\\\31\\\\157546.jpg',\n 'data/20-50/train\\\\42\\\\161468.jpg',\n 'data/20-50/train\\\\23\\\\141986.jpg',\n 'data/20-50/train\\\\44\\\\166233.jpg',\n 'data/20-50/train\\\\43\\\\172878.jpg',\n 'data/20-50/train\\\\34\\\\171505.jpg',\n 'data/20-50/train\\\\26\\\\179161.jpg',\n 'data/20-50/train\\\\31\\\\157910.jpg',\n 'data/20-50/train\\\\45\\\\150190.jpg',\n 'data/20-50/train\\\\47\\\\153237.jpg',\n 'data/20-50/train\\\\33\\\\148858.jpg',\n 'data/20-50/train\\\\24\\\\171383.jpg',\n 'data/20-50/train\\\\27\\\\154089.jpg',\n 'data/20-50/train\\\\40\\\\162953.jpg',\n 'data/20-50/train\\\\33\\\\148827.jpg',\n 'data/20-50/train\\\\45\\\\141918.jpg',\n 'data/20-50/train\\\\42\\\\154200.jpg',\n 'data/20-50/train\\\\43\\\\177464.jpg',\n 'data/20-50/train\\\\36\\\\167032.jpg',\n 'data/20-50/train\\\\37\\\\138031.jpg',\n 'data/20-50/train\\\\39\\\\167118.jpg',\n 'data/20-50/train\\\\47\\\\138723.jpg',\n 'data/20-50/train\\\\30\\\\161746.jpg',\n 'data/20-50/train\\\\33\\\\150925.jpg',\n 'data/20-50/train\\\\25\\\\160415.jpg',\n 'data/20-50/train\\\\28\\\\165354.jpg',\n 'data/20-50/train\\\\21\\\\119884.jpg',\n 'data/20-50/train\\\\38\\\\149692.jpg',\n 'data/20-50/train\\\\20\\\\164961.jpg',\n 'data/20-50/train\\\\33\\\\174229.jpg',\n 'data/20-50/train\\\\45\\\\149348.jpg',\n 'data/20-50/train\\\\32\\\\177238.jpg',\n 'data/20-50/train\\\\45\\\\160791.jpg',\n 'data/20-50/train\\\\34\\\\151341.jpg',\n 'data/20-50/train\\\\33\\\\159841.jpg',\n 'data/20-50/train\\\\42\\\\167851.jpg',\n 'data/20-50/train\\\\42\\\\147288.jpg',\n 'data/20-50/train\\\\40\\\\175984.jpg',\n 'data/20-50/train\\\\47\\\\113129.jpg',\n 'data/20-50/train\\\\48\\\\138367.jpg',\n 'data/20-50/train\\\\27\\\\173255.jpg',\n 'data/20-50/train\\\\22\\\\127350.jpg',\n 'data/20-50/train\\\\49\\\\149136.jpg',\n 'data/20-50/train\\\\36\\\\157057.jpg',\n 'data/20-50/train\\\\40\\\\166886.jpg',\n 'data/20-50/train\\\\21\\\\144026.jpg',\n 'data/20-50/train\\\\26\\\\165935.jpg',\n 'data/20-50/train\\\\38\\\\167362.jpg',\n 'data/20-50/train\\\\24\\\\149413.jpg',\n 'data/20-50/train\\\\20\\\\136925.jpg',\n 'data/20-50/train\\\\37\\\\174979.jpg',\n 'data/20-50/train\\\\44\\\\146041.jpg',\n 'data/20-50/train\\\\50\\\\99052.jpg',\n 'data/20-50/train\\\\39\\\\154763.jpg',\n 'data/20-50/train\\\\38\\\\152253.jpg',\n 'data/20-50/train\\\\24\\\\175620.jpg',\n 'data/20-50/train\\\\26\\\\156946.jpg',\n 'data/20-50/train\\\\30\\\\164981.jpg',\n 'data/20-50/train\\\\26\\\\167880.jpg',\n 'data/20-50/train\\\\48\\\\179267.jpg',\n 'data/20-50/train\\\\33\\\\160717.jpg',\n 'data/20-50/train\\\\41\\\\174305.jpg',\n 'data/20-50/train\\\\35\\\\164353.jpg',\n 'data/20-50/train\\\\23\\\\140258.jpg',\n 'data/20-50/train\\\\31\\\\154405.jpg',\n 'data/20-50/train\\\\31\\\\166342.jpg',\n 'data/20-50/train\\\\39\\\\148812.jpg',\n 'data/20-50/train\\\\21\\\\123703.jpg',\n 'data/20-50/train\\\\38\\\\165179.jpg',\n 'data/20-50/train\\\\36\\\\156988.jpg',\n 'data/20-50/train\\\\41\\\\144735.jpg',\n 'data/20-50/train\\\\33\\\\174263.jpg',\n 'data/20-50/train\\\\23\\\\177462.jpg',\n 'data/20-50/train\\\\40\\\\165041.jpg',\n 'data/20-50/train\\\\32\\\\152831.jpg',\n 'data/20-50/train\\\\46\\\\145152.jpg',\n 'data/20-50/train\\\\41\\\\140503.jpg',\n 'data/20-50/train\\\\28\\\\151303.jpg',\n 'data/20-50/train\\\\21\\\\111825.jpg',\n 'data/20-50/train\\\\33\\\\142100.jpg',\n 'data/20-50/train\\\\20\\\\136832.jpg',\n 'data/20-50/train\\\\20\\\\124747.jpg',\n 'data/20-50/train\\\\34\\\\142748.jpg',\n 'data/20-50/train\\\\30\\\\151571.jpg',\n 'data/20-50/train\\\\46\\\\152226.jpg',\n 'data/20-50/train\\\\48\\\\153806.jpg',\n 'data/20-50/train\\\\44\\\\158429.jpg',\n 'data/20-50/train\\\\40\\\\175321.jpg',\n 'data/20-50/train\\\\43\\\\173219.jpg',\n 'data/20-50/train\\\\43\\\\176709.jpg',\n 'data/20-50/train\\\\50\\\\151747.jpg',\n 'data/20-50/train\\\\27\\\\156675.jpg',\n 'data/20-50/train\\\\45\\\\133120.jpg',\n 'data/20-50/train\\\\22\\\\129054.jpg',\n 'data/20-50/train\\\\46\\\\134380.jpg',\n 'data/20-50/train\\\\40\\\\155697.jpg',\n 'data/20-50/train\\\\30\\\\176801.jpg',\n 'data/20-50/train\\\\30\\\\166750.jpg',\n 'data/20-50/train\\\\32\\\\166507.jpg',\n 'data/20-50/train\\\\25\\\\164331.jpg',\n 'data/20-50/train\\\\44\\\\148807.jpg',\n 'data/20-50/train\\\\42\\\\154856.jpg',\n 'data/20-50/train\\\\47\\\\125823.jpg',\n 'data/20-50/train\\\\20\\\\168710.jpg',\n 'data/20-50/train\\\\43\\\\172707.jpg',\n 'data/20-50/train\\\\40\\\\179380.jpg',\n 'data/20-50/train\\\\33\\\\144733.jpg',\n 'data/20-50/train\\\\23\\\\175168.jpg',\n 'data/20-50/train\\\\23\\\\173455.jpg',\n 'data/20-50/train\\\\49\\\\158977.jpg',\n 'data/20-50/train\\\\23\\\\166147.jpg',\n 'data/20-50/train\\\\27\\\\162898.jpg',\n 'data/20-50/train\\\\35\\\\152067.jpg',\n 'data/20-50/train\\\\34\\\\154676.jpg',\n 'data/20-50/train\\\\23\\\\145596.jpg',\n 'data/20-50/train\\\\33\\\\144763.jpg',\n 'data/20-50/train\\\\46\\\\140264.jpg',\n 'data/20-50/train\\\\29\\\\164561.jpg',\n 'data/20-50/train\\\\48\\\\171629.jpg',\n 'data/20-50/train\\\\49\\\\167016.jpg',\n 'data/20-50/train\\\\23\\\\155196.jpg',\n 'data/20-50/train\\\\23\\\\167509.jpg',\n 'data/20-50/train\\\\20\\\\167807.jpg',\n 'data/20-50/train\\\\50\\\\148912.jpg',\n 'data/20-50/train\\\\24\\\\155197.jpg',\n 'data/20-50/train\\\\29\\\\165824.jpg',\n 'data/20-50/train\\\\28\\\\158352.jpg',\n 'data/20-50/train\\\\27\\\\156444.jpg',\n 'data/20-50/train\\\\24\\\\163143.jpg',\n 'data/20-50/train\\\\24\\\\172808.jpg',\n 'data/20-50/train\\\\21\\\\141783.jpg',\n 'data/20-50/train\\\\32\\\\161431.jpg',\n 'data/20-50/train\\\\31\\\\160756.jpg',\n 'data/20-50/train\\\\49\\\\164428.jpg',\n 'data/20-50/train\\\\36\\\\154751.jpg',\n 'data/20-50/train\\\\41\\\\157479.jpg',\n 'data/20-50/train\\\\47\\\\156148.jpg',\n 'data/20-50/train\\\\22\\\\156765.jpg',\n 'data/20-50/train\\\\46\\\\155760.jpg',\n 'data/20-50/train\\\\23\\\\161499.jpg',\n 'data/20-50/train\\\\38\\\\156534.jpg',\n 'data/20-50/train\\\\33\\\\177621.jpg',\n 'data/20-50/train\\\\47\\\\124791.jpg',\n 'data/20-50/train\\\\34\\\\165393.jpg',\n 'data/20-50/train\\\\38\\\\158696.jpg',\n 'data/20-50/train\\\\28\\\\142817.jpg',\n 'data/20-50/train\\\\21\\\\170573.jpg',\n 'data/20-50/train\\\\33\\\\151435.jpg',\n 'data/20-50/train\\\\33\\\\172066.jpg',\n 'data/20-50/train\\\\33\\\\163708.jpg',\n 'data/20-50/train\\\\24\\\\164976.jpg',\n 'data/20-50/train\\\\31\\\\171991.jpg',\n 'data/20-50/train\\\\49\\\\170807.jpg',\n 'data/20-50/train\\\\21\\\\121965.jpg',\n 'data/20-50/train\\\\47\\\\124274.jpg',\n 'data/20-50/train\\\\44\\\\179148.jpg',\n 'data/20-50/train\\\\22\\\\150546.jpg',\n 'data/20-50/train\\\\37\\\\145224.jpg',\n 'data/20-50/train\\\\33\\\\166504.jpg',\n 'data/20-50/train\\\\45\\\\162226.jpg',\n 'data/20-50/train\\\\36\\\\176210.jpg',\n 'data/20-50/train\\\\45\\\\140760.jpg',\n 'data/20-50/train\\\\31\\\\152554.jpg',\n 'data/20-50/train\\\\40\\\\151545.jpg',\n 'data/20-50/train\\\\37\\\\137895.jpg',\n 'data/20-50/train\\\\24\\\\170133.jpg',\n 'data/20-50/train\\\\27\\\\179111.jpg',\n 'data/20-50/train\\\\39\\\\177306.jpg',\n 'data/20-50/train\\\\33\\\\150981.jpg',\n 'data/20-50/train\\\\45\\\\131406.jpg',\n 'data/20-50/train\\\\38\\\\152184.jpg',\n 'data/20-50/train\\\\41\\\\166389.jpg',\n 'data/20-50/train\\\\41\\\\155974.jpg',\n 'data/20-50/train\\\\40\\\\151094.jpg',\n 'data/20-50/train\\\\44\\\\173026.jpg',\n 'data/20-50/train\\\\21\\\\166192.jpg',\n 'data/20-50/train\\\\25\\\\150639.jpg',\n 'data/20-50/train\\\\23\\\\175191.jpg',\n 'data/20-50/train\\\\25\\\\178695.jpg',\n 'data/20-50/train\\\\36\\\\153047.jpg',\n 'data/20-50/train\\\\25\\\\166195.jpg',\n 'data/20-50/train\\\\42\\\\156564.jpg',\n 'data/20-50/train\\\\30\\\\152488.jpg',\n 'data/20-50/train\\\\37\\\\149476.jpg',\n 'data/20-50/train\\\\23\\\\147281.jpg',\n 'data/20-50/train\\\\34\\\\173930.jpg',\n 'data/20-50/train\\\\42\\\\178700.jpg',\n 'data/20-50/train\\\\24\\\\167857.jpg',\n 'data/20-50/train\\\\28\\\\173079.jpg',\n 'data/20-50/train\\\\40\\\\143993.jpg',\n 'data/20-50/train\\\\23\\\\173333.jpg',\n 'data/20-50/train\\\\27\\\\170035.jpg',\n 'data/20-50/train\\\\24\\\\168500.jpg',\n 'data/20-50/train\\\\23\\\\178069.jpg',\n 'data/20-50/train\\\\44\\\\163874.jpg',\n 'data/20-50/train\\\\50\\\\111024.jpg',\n 'data/20-50/train\\\\34\\\\144172.jpg',\n 'data/20-50/train\\\\25\\\\149493.jpg',\n 'data/20-50/train\\\\32\\\\167536.jpg',\n 'data/20-50/train\\\\48\\\\140526.jpg',\n 'data/20-50/train\\\\46\\\\147743.jpg',\n 'data/20-50/train\\\\46\\\\145566.jpg',\n 'data/20-50/train\\\\24\\\\169554.jpg',\n 'data/20-50/train\\\\44\\\\174080.jpg',\n 'data/20-50/train\\\\40\\\\160359.jpg',\n 'data/20-50/train\\\\33\\\\146620.jpg',\n 'data/20-50/train\\\\41\\\\152109.jpg',\n 'data/20-50/train\\\\27\\\\179607.jpg',\n 'data/20-50/train\\\\44\\\\149994.jpg',\n 'data/20-50/train\\\\25\\\\154577.jpg',\n 'data/20-50/train\\\\30\\\\161082.jpg',\n 'data/20-50/train\\\\45\\\\136851.jpg',\n 'data/20-50/train\\\\46\\\\173446.jpg',\n 'data/20-50/train\\\\49\\\\119083.jpg',\n 'data/20-50/train\\\\24\\\\164577.jpg',\n 'data/20-50/train\\\\21\\\\140593.jpg',\n 'data/20-50/train\\\\46\\\\138530.jpg',\n 'data/20-50/train\\\\48\\\\162825.jpg',\n 'data/20-50/train\\\\38\\\\146408.jpg',\n 'data/20-50/train\\\\29\\\\173967.jpg',\n 'data/20-50/train\\\\44\\\\153281.jpg',\n 'data/20-50/train\\\\21\\\\126599.jpg',\n 'data/20-50/train\\\\34\\\\167776.jpg',\n 'data/20-50/train\\\\20\\\\124561.jpg',\n 'data/20-50/train\\\\20\\\\132157.jpg',\n 'data/20-50/train\\\\44\\\\162116.jpg',\n 'data/20-50/train\\\\37\\\\143104.jpg',\n 'data/20-50/train\\\\32\\\\172343.jpg',\n 'data/20-50/train\\\\26\\\\177589.jpg',\n 'data/20-50/train\\\\41\\\\156506.jpg',\n 'data/20-50/train\\\\48\\\\158947.jpg',\n 'data/20-50/train\\\\26\\\\149784.jpg',\n 'data/20-50/train\\\\47\\\\142196.jpg',\n 'data/20-50/train\\\\36\\\\163276.jpg',\n 'data/20-50/train\\\\50\\\\157698.jpg',\n 'data/20-50/train\\\\39\\\\161121.jpg',\n 'data/20-50/train\\\\22\\\\161306.jpg',\n 'data/20-50/train\\\\48\\\\121262.jpg',\n 'data/20-50/train\\\\36\\\\164755.jpg',\n 'data/20-50/train\\\\20\\\\134158.jpg',\n 'data/20-50/train\\\\21\\\\137739.jpg',\n 'data/20-50/train\\\\20\\\\145212.jpg',\n 'data/20-50/train\\\\34\\\\142503.jpg',\n 'data/20-50/train\\\\41\\\\165115.jpg',\n 'data/20-50/train\\\\30\\\\149803.jpg',\n 'data/20-50/train\\\\40\\\\149006.jpg',\n 'data/20-50/train\\\\27\\\\175872.jpg',\n 'data/20-50/train\\\\40\\\\148976.jpg',\n 'data/20-50/train\\\\38\\\\159835.jpg',\n 'data/20-50/train\\\\32\\\\167635.jpg',\n 'data/20-50/train\\\\41\\\\145461.jpg',\n 'data/20-50/train\\\\25\\\\174839.jpg',\n 'data/20-50/train\\\\34\\\\169270.jpg',\n 'data/20-50/train\\\\24\\\\158801.jpg',\n 'data/20-50/train\\\\33\\\\176243.jpg',\n 'data/20-50/train\\\\35\\\\163485.jpg',\n 'data/20-50/train\\\\27\\\\164355.jpg',\n 'data/20-50/train\\\\40\\\\161263.jpg',\n 'data/20-50/train\\\\25\\\\170984.jpg',\n 'data/20-50/train\\\\41\\\\161098.jpg',\n 'data/20-50/train\\\\26\\\\153494.jpg',\n 'data/20-50/train\\\\31\\\\155063.jpg',\n 'data/20-50/train\\\\40\\\\170365.jpg',\n 'data/20-50/train\\\\26\\\\176064.jpg',\n 'data/20-50/train\\\\49\\\\169320.jpg',\n 'data/20-50/train\\\\46\\\\148193.jpg',\n 'data/20-50/train\\\\35\\\\170888.jpg',\n 'data/20-50/train\\\\23\\\\148991.jpg',\n 'data/20-50/train\\\\42\\\\163066.jpg',\n 'data/20-50/train\\\\43\\\\175663.jpg',\n 'data/20-50/train\\\\49\\\\149880.jpg',\n 'data/20-50/train\\\\45\\\\138829.jpg',\n 'data/20-50/train\\\\34\\\\171340.jpg',\n 'data/20-50/train\\\\38\\\\170424.jpg',\n 'data/20-50/train\\\\29\\\\158336.jpg',\n 'data/20-50/train\\\\24\\\\177180.jpg',\n 'data/20-50/train\\\\30\\\\170372.jpg',\n 'data/20-50/train\\\\24\\\\144954.jpg',\n 'data/20-50/train\\\\38\\\\174134.jpg',\n 'data/20-50/train\\\\36\\\\154188.jpg',\n 'data/20-50/train\\\\43\\\\177403.jpg',\n 'data/20-50/train\\\\40\\\\154131.jpg',\n 'data/20-50/train\\\\32\\\\164638.jpg',\n 'data/20-50/train\\\\24\\\\159371.jpg',\n 'data/20-50/train\\\\43\\\\163657.jpg',\n 'data/20-50/train\\\\20\\\\159165.jpg',\n 'data/20-50/train\\\\31\\\\171408.jpg',\n 'data/20-50/train\\\\41\\\\135081.jpg',\n 'data/20-50/train\\\\37\\\\172022.jpg',\n 'data/20-50/train\\\\46\\\\158827.jpg',\n 'data/20-50/train\\\\50\\\\124282.jpg',\n 'data/20-50/train\\\\41\\\\140798.jpg',\n 'data/20-50/train\\\\31\\\\152771.jpg',\n 'data/20-50/train\\\\23\\\\143989.jpg',\n 'data/20-50/train\\\\27\\\\155237.jpg',\n 'data/20-50/train\\\\37\\\\165787.jpg',\n 'data/20-50/train\\\\33\\\\173564.jpg',\n 'data/20-50/train\\\\25\\\\145805.jpg',\n 'data/20-50/train\\\\26\\\\166407.jpg',\n 'data/20-50/train\\\\47\\\\141923.jpg',\n 'data/20-50/train\\\\49\\\\179284.jpg',\n 'data/20-50/train\\\\35\\\\164180.jpg',\n 'data/20-50/train\\\\35\\\\163561.jpg',\n 'data/20-50/train\\\\37\\\\164107.jpg',\n 'data/20-50/train\\\\43\\\\176779.jpg',\n 'data/20-50/train\\\\20\\\\169909.jpg',\n 'data/20-50/train\\\\39\\\\167849.jpg',\n 'data/20-50/train\\\\47\\\\178853.jpg',\n 'data/20-50/train\\\\21\\\\128248.jpg',\n 'data/20-50/train\\\\33\\\\171241.jpg',\n 'data/20-50/train\\\\24\\\\146472.jpg',\n 'data/20-50/train\\\\21\\\\148203.jpg',\n 'data/20-50/train\\\\47\\\\116724.jpg',\n 'data/20-50/train\\\\24\\\\144474.jpg',\n 'data/20-50/train\\\\40\\\\177015.jpg',\n 'data/20-50/train\\\\34\\\\148942.jpg',\n 'data/20-50/train\\\\31\\\\167035.jpg',\n 'data/20-50/train\\\\47\\\\169853.jpg',\n 'data/20-50/train\\\\47\\\\123524.jpg',\n 'data/20-50/train\\\\45\\\\166134.jpg',\n 'data/20-50/train\\\\49\\\\157642.jpg',\n 'data/20-50/train\\\\32\\\\171611.jpg',\n 'data/20-50/train\\\\45\\\\132279.jpg',\n 'data/20-50/train\\\\32\\\\170998.jpg',\n 'data/20-50/train\\\\29\\\\179634.jpg',\n 'data/20-50/train\\\\28\\\\153016.jpg',\n 'data/20-50/train\\\\32\\\\159648.jpg',\n 'data/20-50/train\\\\24\\\\178677.jpg',\n 'data/20-50/train\\\\22\\\\144851.jpg',\n 'data/20-50/train\\\\43\\\\177107.jpg',\n 'data/20-50/train\\\\31\\\\167159.jpg',\n 'data/20-50/train\\\\40\\\\164206.jpg',\n 'data/20-50/train\\\\48\\\\144552.jpg',\n 'data/20-50/train\\\\35\\\\166139.jpg',\n 'data/20-50/train\\\\23\\\\161224.jpg',\n 'data/20-50/train\\\\38\\\\163570.jpg',\n 'data/20-50/train\\\\33\\\\168080.jpg',\n 'data/20-50/train\\\\21\\\\135996.jpg',\n 'data/20-50/train\\\\35\\\\163857.jpg',\n 'data/20-50/train\\\\23\\\\163102.jpg',\n 'data/20-50/train\\\\39\\\\166805.jpg',\n 'data/20-50/train\\\\37\\\\152982.jpg',\n 'data/20-50/train\\\\27\\\\157699.jpg',\n 'data/20-50/train\\\\44\\\\143210.jpg',\n 'data/20-50/train\\\\38\\\\166520.jpg',\n 'data/20-50/train\\\\39\\\\146576.jpg',\n 'data/20-50/train\\\\46\\\\171760.jpg',\n 'data/20-50/train\\\\33\\\\165488.jpg',\n 'data/20-50/train\\\\49\\\\178372.jpg',\n 'data/20-50/train\\\\41\\\\166560.jpg',\n 'data/20-50/train\\\\36\\\\152191.jpg',\n 'data/20-50/train\\\\37\\\\171604.jpg',\n 'data/20-50/train\\\\31\\\\177860.jpg',\n 'data/20-50/train\\\\28\\\\141750.jpg',\n 'data/20-50/train\\\\22\\\\118288.jpg',\n 'data/20-50/train\\\\40\\\\176687.jpg',\n 'data/20-50/train\\\\30\\\\143389.jpg',\n 'data/20-50/train\\\\48\\\\130287.jpg',\n 'data/20-50/train\\\\28\\\\167548.jpg',\n 'data/20-50/train\\\\28\\\\167004.jpg',\n 'data/20-50/train\\\\48\\\\145416.jpg',\n 'data/20-50/train\\\\46\\\\162443.jpg',\n 'data/20-50/train\\\\46\\\\170957.jpg',\n 'data/20-50/train\\\\22\\\\148212.jpg',\n 'data/20-50/train\\\\27\\\\179307.jpg',\n 'data/20-50/train\\\\41\\\\177418.jpg',\n 'data/20-50/train\\\\37\\\\139861.jpg',\n 'data/20-50/train\\\\40\\\\173504.jpg',\n 'data/20-50/train\\\\43\\\\151432.jpg',\n 'data/20-50/train\\\\35\\\\175936.jpg',\n 'data/20-50/train\\\\47\\\\177055.jpg',\n 'data/20-50/train\\\\36\\\\178335.jpg',\n 'data/20-50/train\\\\47\\\\121522.jpg',\n 'data/20-50/train\\\\37\\\\171124.jpg',\n 'data/20-50/train\\\\21\\\\129331.jpg',\n 'data/20-50/train\\\\47\\\\163271.jpg',\n 'data/20-50/train\\\\41\\\\151311.jpg',\n 'data/20-50/train\\\\25\\\\176446.jpg',\n 'data/20-50/train\\\\29\\\\154386.jpg',\n 'data/20-50/train\\\\47\\\\132635.jpg',\n 'data/20-50/train\\\\24\\\\149477.jpg',\n 'data/20-50/train\\\\45\\\\169876.jpg',\n 'data/20-50/train\\\\47\\\\140880.jpg',\n 'data/20-50/train\\\\22\\\\148484.jpg',\n 'data/20-50/train\\\\50\\\\142082.jpg',\n 'data/20-50/train\\\\39\\\\150343.jpg',\n 'data/20-50/train\\\\26\\\\158419.jpg',\n 'data/20-50/train\\\\33\\\\176332.jpg',\n 'data/20-50/train\\\\22\\\\176510.jpg',\n 'data/20-50/train\\\\44\\\\145017.jpg',\n 'data/20-50/train\\\\47\\\\161015.jpg',\n 'data/20-50/train\\\\28\\\\169537.jpg',\n 'data/20-50/train\\\\25\\\\145044.jpg',\n 'data/20-50/train\\\\28\\\\170914.jpg',\n 'data/20-50/train\\\\46\\\\129523.jpg',\n 'data/20-50/train\\\\42\\\\149473.jpg',\n 'data/20-50/train\\\\34\\\\152321.jpg',\n 'data/20-50/train\\\\32\\\\173922.jpg',\n 'data/20-50/train\\\\36\\\\162132.jpg',\n 'data/20-50/train\\\\33\\\\169383.jpg',\n 'data/20-50/train\\\\31\\\\178931.jpg',\n 'data/20-50/train\\\\29\\\\156265.jpg',\n 'data/20-50/train\\\\20\\\\122953.jpg',\n 'data/20-50/train\\\\50\\\\178991.jpg',\n 'data/20-50/train\\\\35\\\\159941.jpg',\n 'data/20-50/train\\\\25\\\\178526.jpg',\n 'data/20-50/train\\\\45\\\\170793.jpg',\n 'data/20-50/train\\\\50\\\\157928.jpg',\n 'data/20-50/train\\\\29\\\\163070.jpg',\n 'data/20-50/train\\\\31\\\\152377.jpg',\n 'data/20-50/train\\\\35\\\\146482.jpg',\n 'data/20-50/train\\\\20\\\\168969.jpg',\n 'data/20-50/train\\\\21\\\\167668.jpg',\n 'data/20-50/train\\\\46\\\\126909.jpg',\n 'data/20-50/train\\\\21\\\\160759.jpg',\n 'data/20-50/train\\\\27\\\\174182.jpg',\n 'data/20-50/train\\\\41\\\\148772.jpg',\n 'data/20-50/train\\\\22\\\\122483.jpg',\n 'data/20-50/train\\\\23\\\\151785.jpg',\n 'data/20-50/train\\\\38\\\\161509.jpg',\n 'data/20-50/train\\\\44\\\\134714.jpg',\n 'data/20-50/train\\\\46\\\\148794.jpg',\n 'data/20-50/train\\\\22\\\\156653.jpg',\n 'data/20-50/train\\\\20\\\\170956.jpg',\n 'data/20-50/train\\\\47\\\\140892.jpg',\n 'data/20-50/train\\\\31\\\\149705.jpg',\n 'data/20-50/train\\\\32\\\\172269.jpg',\n 'data/20-50/train\\\\20\\\\170506.jpg',\n 'data/20-50/train\\\\23\\\\149972.jpg',\n 'data/20-50/train\\\\32\\\\156337.jpg',\n 'data/20-50/train\\\\37\\\\155520.jpg',\n 'data/20-50/train\\\\21\\\\161670.jpg',\n 'data/20-50/train\\\\22\\\\128643.jpg',\n 'data/20-50/train\\\\30\\\\166039.jpg',\n 'data/20-50/train\\\\34\\\\157846.jpg',\n 'data/20-50/train\\\\30\\\\168956.jpg',\n 'data/20-50/train\\\\46\\\\136736.jpg',\n 'data/20-50/train\\\\36\\\\169487.jpg',\n 'data/20-50/train\\\\31\\\\167811.jpg',\n 'data/20-50/train\\\\49\\\\165684.jpg',\n 'data/20-50/train\\\\35\\\\178530.jpg',\n 'data/20-50/train\\\\33\\\\175174.jpg',\n 'data/20-50/train\\\\44\\\\151619.jpg',\n 'data/20-50/train\\\\39\\\\145091.jpg',\n 'data/20-50/train\\\\43\\\\170655.jpg',\n 'data/20-50/train\\\\33\\\\178221.jpg',\n 'data/20-50/train\\\\39\\\\163019.jpg',\n 'data/20-50/train\\\\25\\\\149522.jpg',\n 'data/20-50/train\\\\40\\\\159307.jpg',\n 'data/20-50/train\\\\48\\\\173677.jpg',\n 'data/20-50/train\\\\48\\\\122093.jpg',\n 'data/20-50/train\\\\29\\\\174314.jpg',\n 'data/20-50/train\\\\49\\\\178662.jpg',\n 'data/20-50/train\\\\50\\\\116096.jpg',\n 'data/20-50/train\\\\37\\\\174345.jpg',\n 'data/20-50/train\\\\36\\\\151777.jpg',\n 'data/20-50/train\\\\44\\\\145534.jpg',\n 'data/20-50/train\\\\23\\\\144078.jpg',\n 'data/20-50/train\\\\47\\\\128295.jpg',\n 'data/20-50/train\\\\41\\\\143056.jpg',\n 'data/20-50/train\\\\50\\\\149109.jpg',\n 'data/20-50/train\\\\44\\\\163410.jpg',\n 'data/20-50/train\\\\43\\\\170896.jpg',\n 'data/20-50/train\\\\43\\\\159343.jpg',\n 'data/20-50/train\\\\50\\\\103566.jpg',\n 'data/20-50/train\\\\37\\\\165495.jpg',\n 'data/20-50/train\\\\28\\\\173755.jpg',\n 'data/20-50/train\\\\35\\\\168859.jpg',\n 'data/20-50/train\\\\30\\\\167242.jpg',\n 'data/20-50/train\\\\24\\\\177281.jpg',\n 'data/20-50/train\\\\22\\\\141495.jpg',\n 'data/20-50/train\\\\43\\\\151235.jpg',\n 'data/20-50/train\\\\30\\\\179419.jpg',\n 'data/20-50/train\\\\29\\\\172687.jpg',\n 'data/20-50/train\\\\45\\\\144318.jpg',\n 'data/20-50/train\\\\42\\\\158809.jpg',\n 'data/20-50/train\\\\30\\\\157773.jpg',\n 'data/20-50/train\\\\47\\\\134009.jpg',\n 'data/20-50/train\\\\48\\\\171644.jpg',\n 'data/20-50/train\\\\30\\\\177567.jpg',\n 'data/20-50/train\\\\42\\\\177959.jpg',\n 'data/20-50/train\\\\32\\\\165930.jpg',\n 'data/20-50/train\\\\27\\\\148087.jpg',\n 'data/20-50/train\\\\31\\\\167050.jpg',\n 'data/20-50/train\\\\48\\\\122647.jpg',\n 'data/20-50/train\\\\28\\\\143650.jpg',\n 'data/20-50/train\\\\21\\\\112506.jpg',\n 'data/20-50/train\\\\35\\\\144854.jpg',\n 'data/20-50/train\\\\22\\\\119695.jpg',\n 'data/20-50/train\\\\33\\\\157695.jpg',\n 'data/20-50/train\\\\38\\\\164611.jpg',\n 'data/20-50/train\\\\44\\\\171217.jpg',\n 'data/20-50/train\\\\21\\\\137345.jpg',\n 'data/20-50/train\\\\38\\\\163216.jpg',\n 'data/20-50/train\\\\20\\\\156870.jpg',\n 'data/20-50/train\\\\47\\\\144282.jpg',\n 'data/20-50/train\\\\29\\\\156867.jpg',\n 'data/20-50/train\\\\49\\\\156941.jpg',\n 'data/20-50/train\\\\26\\\\165133.jpg',\n 'data/20-50/train\\\\20\\\\142561.jpg',\n 'data/20-50/train\\\\43\\\\144494.jpg',\n 'data/20-50/train\\\\43\\\\141450.jpg',\n 'data/20-50/train\\\\47\\\\155604.jpg',\n 'data/20-50/train\\\\25\\\\154781.jpg',\n 'data/20-50/train\\\\50\\\\126370.jpg',\n 'data/20-50/train\\\\33\\\\153437.jpg',\n 'data/20-50/train\\\\46\\\\129293.jpg',\n 'data/20-50/train\\\\30\\\\152439.jpg',\n 'data/20-50/train\\\\33\\\\169656.jpg',\n 'data/20-50/train\\\\47\\\\159203.jpg',\n 'data/20-50/train\\\\32\\\\159455.jpg',\n 'data/20-50/train\\\\22\\\\178607.jpg',\n 'data/20-50/train\\\\41\\\\175898.jpg',\n 'data/20-50/train\\\\23\\\\145619.jpg',\n 'data/20-50/train\\\\30\\\\167411.jpg',\n 'data/20-50/train\\\\23\\\\153795.jpg',\n 'data/20-50/train\\\\20\\\\142356.jpg',\n 'data/20-50/train\\\\43\\\\171451.jpg',\n 'data/20-50/train\\\\27\\\\149561.jpg',\n 'data/20-50/train\\\\41\\\\147584.jpg',\n 'data/20-50/train\\\\31\\\\165716.jpg',\n 'data/20-50/train\\\\39\\\\176525.jpg',\n 'data/20-50/train\\\\49\\\\145808.jpg',\n 'data/20-50/train\\\\34\\\\179493.jpg',\n 'data/20-50/train\\\\30\\\\168694.jpg',\n 'data/20-50/train\\\\21\\\\132249.jpg',\n 'data/20-50/train\\\\33\\\\160374.jpg',\n 'data/20-50/train\\\\43\\\\145598.jpg',\n 'data/20-50/train\\\\43\\\\160057.jpg',\n 'data/20-50/train\\\\41\\\\164461.jpg',\n 'data/20-50/train\\\\42\\\\147577.jpg',\n 'data/20-50/train\\\\30\\\\176884.jpg',\n 'data/20-50/train\\\\31\\\\167517.jpg',\n 'data/20-50/train\\\\45\\\\175245.jpg',\n 'data/20-50/train\\\\24\\\\157458.jpg',\n 'data/20-50/train\\\\47\\\\150829.jpg',\n 'data/20-50/train\\\\35\\\\179486.jpg',\n 'data/20-50/train\\\\31\\\\154361.jpg',\n 'data/20-50/train\\\\38\\\\165995.jpg',\n 'data/20-50/train\\\\44\\\\163210.jpg',\n 'data/20-50/train\\\\41\\\\150411.jpg',\n 'data/20-50/train\\\\49\\\\168141.jpg',\n 'data/20-50/train\\\\20\\\\133482.jpg',\n 'data/20-50/train\\\\30\\\\145410.jpg',\n 'data/20-50/train\\\\47\\\\135804.jpg',\n 'data/20-50/train\\\\27\\\\148103.jpg',\n 'data/20-50/train\\\\28\\\\171108.jpg',\n 'data/20-50/train\\\\43\\\\178170.jpg',\n 'data/20-50/train\\\\46\\\\141894.jpg',\n 'data/20-50/train\\\\35\\\\163337.jpg',\n 'data/20-50/train\\\\23\\\\168470.jpg',\n 'data/20-50/train\\\\22\\\\111350.jpg',\n 'data/20-50/train\\\\20\\\\161308.jpg',\n 'data/20-50/train\\\\30\\\\146858.jpg',\n 'data/20-50/train\\\\36\\\\167957.jpg',\n 'data/20-50/train\\\\28\\\\173871.jpg',\n 'data/20-50/train\\\\27\\\\177792.jpg',\n 'data/20-50/train\\\\48\\\\172635.jpg',\n 'data/20-50/train\\\\32\\\\166096.jpg',\n 'data/20-50/train\\\\31\\\\167756.jpg',\n 'data/20-50/train\\\\32\\\\154510.jpg',\n 'data/20-50/train\\\\29\\\\169391.jpg',\n 'data/20-50/train\\\\50\\\\171025.jpg',\n 'data/20-50/train\\\\25\\\\167802.jpg',\n 'data/20-50/train\\\\46\\\\127858.jpg',\n 'data/20-50/train\\\\47\\\\136067.jpg',\n 'data/20-50/train\\\\38\\\\175731.jpg',\n 'data/20-50/train\\\\32\\\\155524.jpg',\n 'data/20-50/train\\\\22\\\\124997.jpg',\n 'data/20-50/train\\\\30\\\\143407.jpg',\n 'data/20-50/train\\\\41\\\\178165.jpg',\n 'data/20-50/train\\\\35\\\\168543.jpg',\n 'data/20-50/train\\\\46\\\\144987.jpg',\n 'data/20-50/train\\\\44\\\\146898.jpg',\n 'data/20-50/train\\\\22\\\\126978.jpg',\n 'data/20-50/train\\\\40\\\\164281.jpg',\n 'data/20-50/train\\\\24\\\\145964.jpg',\n 'data/20-50/train\\\\29\\\\164406.jpg',\n 'data/20-50/train\\\\21\\\\154722.jpg',\n 'data/20-50/train\\\\21\\\\166149.jpg',\n 'data/20-50/train\\\\43\\\\138449.jpg',\n 'data/20-50/train\\\\45\\\\150101.jpg',\n 'data/20-50/train\\\\31\\\\176722.jpg',\n 'data/20-50/train\\\\40\\\\153193.jpg',\n 'data/20-50/train\\\\25\\\\173220.jpg',\n 'data/20-50/train\\\\33\\\\157943.jpg',\n 'data/20-50/train\\\\38\\\\146818.jpg',\n 'data/20-50/train\\\\23\\\\179132.jpg',\n 'data/20-50/train\\\\45\\\\170046.jpg',\n 'data/20-50/train\\\\50\\\\179141.jpg',\n 'data/20-50/train\\\\32\\\\162037.jpg',\n 'data/20-50/train\\\\39\\\\173556.jpg',\n 'data/20-50/train\\\\35\\\\178533.jpg',\n 'data/20-50/train\\\\50\\\\176505.jpg',\n 'data/20-50/train\\\\44\\\\162704.jpg',\n 'data/20-50/train\\\\35\\\\163711.jpg',\n 'data/20-50/train\\\\49\\\\147868.jpg',\n 'data/20-50/train\\\\37\\\\176697.jpg',\n 'data/20-50/train\\\\23\\\\155228.jpg',\n 'data/20-50/train\\\\47\\\\147679.jpg',\n 'data/20-50/train\\\\49\\\\171064.jpg',\n 'data/20-50/train\\\\25\\\\170847.jpg',\n 'data/20-50/train\\\\36\\\\172247.jpg',\n 'data/20-50/train\\\\42\\\\177435.jpg',\n 'data/20-50/train\\\\22\\\\148393.jpg',\n 'data/20-50/train\\\\36\\\\167232.jpg',\n 'data/20-50/train\\\\42\\\\157382.jpg',\n 'data/20-50/train\\\\49\\\\149124.jpg',\n 'data/20-50/train\\\\29\\\\162654.jpg',\n 'data/20-50/train\\\\38\\\\139699.jpg',\n 'data/20-50/train\\\\26\\\\163093.jpg',\n 'data/20-50/train\\\\22\\\\135159.jpg',\n 'data/20-50/train\\\\27\\\\157852.jpg',\n 'data/20-50/train\\\\50\\\\112064.jpg',\n 'data/20-50/train\\\\23\\\\162502.jpg',\n 'data/20-50/train\\\\30\\\\174939.jpg',\n 'data/20-50/train\\\\33\\\\178008.jpg',\n 'data/20-50/train\\\\24\\\\141095.jpg',\n 'data/20-50/train\\\\28\\\\179509.jpg',\n 'data/20-50/train\\\\47\\\\150675.jpg',\n 'data/20-50/train\\\\44\\\\178665.jpg',\n 'data/20-50/train\\\\25\\\\162720.jpg',\n 'data/20-50/train\\\\49\\\\119294.jpg',\n 'data/20-50/train\\\\34\\\\151655.jpg',\n 'data/20-50/train\\\\24\\\\158214.jpg',\n 'data/20-50/train\\\\25\\\\149808.jpg',\n 'data/20-50/train\\\\21\\\\131760.jpg',\n 'data/20-50/train\\\\35\\\\174713.jpg',\n 'data/20-50/train\\\\48\\\\124436.jpg',\n 'data/20-50/train\\\\31\\\\150972.jpg',\n 'data/20-50/train\\\\45\\\\177767.jpg',\n 'data/20-50/train\\\\30\\\\165430.jpg',\n 'data/20-50/train\\\\41\\\\142531.jpg',\n 'data/20-50/train\\\\37\\\\163470.jpg',\n 'data/20-50/train\\\\29\\\\174514.jpg',\n 'data/20-50/train\\\\29\\\\176016.jpg',\n 'data/20-50/train\\\\29\\\\150402.jpg',\n 'data/20-50/train\\\\26\\\\178092.jpg',\n 'data/20-50/train\\\\24\\\\164074.jpg',\n 'data/20-50/train\\\\48\\\\169984.jpg',\n 'data/20-50/train\\\\41\\\\140415.jpg',\n 'data/20-50/train\\\\21\\\\114598.jpg',\n 'data/20-50/train\\\\40\\\\160715.jpg',\n 'data/20-50/train\\\\30\\\\175830.jpg',\n 'data/20-50/train\\\\43\\\\166686.jpg',\n 'data/20-50/train\\\\42\\\\164647.jpg',\n 'data/20-50/train\\\\35\\\\173551.jpg',\n 'data/20-50/train\\\\21\\\\128082.jpg',\n 'data/20-50/train\\\\37\\\\149035.jpg',\n 'data/20-50/train\\\\41\\\\174704.jpg',\n 'data/20-50/train\\\\29\\\\146568.jpg',\n 'data/20-50/train\\\\34\\\\150954.jpg',\n 'data/20-50/train\\\\48\\\\5.jpg',\n 'data/20-50/train\\\\47\\\\112476.jpg',\n 'data/20-50/train\\\\34\\\\174349.jpg',\n 'data/20-50/train\\\\33\\\\166162.jpg',\n 'data/20-50/train\\\\41\\\\178483.jpg',\n 'data/20-50/train\\\\22\\\\149914.jpg',\n 'data/20-50/train\\\\44\\\\132153.jpg',\n 'data/20-50/train\\\\42\\\\170204.jpg',\n 'data/20-50/train\\\\24\\\\147975.jpg',\n 'data/20-50/train\\\\47\\\\137099.jpg',\n 'data/20-50/train\\\\27\\\\148373.jpg',\n 'data/20-50/train\\\\25\\\\158784.jpg',\n 'data/20-50/train\\\\40\\\\172136.jpg',\n 'data/20-50/train\\\\45\\\\170203.jpg',\n 'data/20-50/train\\\\28\\\\142463.jpg',\n 'data/20-50/train\\\\35\\\\175438.jpg',\n 'data/20-50/train\\\\44\\\\168621.jpg',\n 'data/20-50/train\\\\27\\\\172654.jpg',\n 'data/20-50/train\\\\41\\\\155782.jpg',\n 'data/20-50/train\\\\46\\\\150018.jpg',\n 'data/20-50/train\\\\41\\\\170725.jpg',\n 'data/20-50/train\\\\25\\\\170742.jpg',\n 'data/20-50/train\\\\36\\\\159675.jpg',\n 'data/20-50/train\\\\29\\\\174696.jpg',\n 'data/20-50/train\\\\28\\\\153121.jpg',\n 'data/20-50/train\\\\34\\\\170092.jpg',\n 'data/20-50/train\\\\21\\\\166074.jpg',\n 'data/20-50/train\\\\34\\\\159518.jpg',\n 'data/20-50/train\\\\34\\\\151711.jpg',\n 'data/20-50/train\\\\34\\\\150354.jpg',\n 'data/20-50/train\\\\27\\\\153146.jpg',\n 'data/20-50/train\\\\34\\\\164796.jpg',\n 'data/20-50/train\\\\49\\\\152739.jpg',\n 'data/20-50/train\\\\33\\\\148437.jpg',\n 'data/20-50/train\\\\21\\\\114405.jpg',\n 'data/20-50/train\\\\45\\\\144307.jpg',\n 'data/20-50/train\\\\21\\\\171478.jpg',\n 'data/20-50/train\\\\22\\\\124964.jpg',\n 'data/20-50/train\\\\31\\\\174430.jpg',\n 'data/20-50/train\\\\44\\\\155177.jpg',\n 'data/20-50/train\\\\29\\\\162677.jpg',\n 'data/20-50/train\\\\43\\\\164592.jpg',\n 'data/20-50/train\\\\47\\\\166621.jpg',\n 'data/20-50/train\\\\27\\\\176270.jpg',\n 'data/20-50/train\\\\30\\\\178387.jpg',\n 'data/20-50/train\\\\31\\\\156266.jpg',\n 'data/20-50/train\\\\28\\\\166893.jpg',\n 'data/20-50/train\\\\32\\\\175777.jpg',\n 'data/20-50/train\\\\30\\\\171386.jpg',\n 'data/20-50/train\\\\47\\\\116536.jpg',\n 'data/20-50/train\\\\21\\\\155004.jpg',\n 'data/20-50/train\\\\39\\\\146999.jpg',\n 'data/20-50/train\\\\22\\\\164979.jpg',\n 'data/20-50/train\\\\28\\\\158155.jpg',\n 'data/20-50/train\\\\39\\\\176086.jpg',\n 'data/20-50/train\\\\37\\\\140634.jpg',\n 'data/20-50/train\\\\25\\\\158360.jpg',\n 'data/20-50/train\\\\40\\\\171019.jpg',\n 'data/20-50/train\\\\21\\\\120141.jpg',\n 'data/20-50/train\\\\22\\\\150699.jpg',\n 'data/20-50/train\\\\40\\\\146588.jpg',\n 'data/20-50/train\\\\28\\\\174985.jpg',\n 'data/20-50/train\\\\25\\\\148376.jpg',\n 'data/20-50/train\\\\50\\\\175758.jpg',\n 'data/20-50/train\\\\45\\\\124680.jpg',\n 'data/20-50/train\\\\32\\\\175782.jpg',\n 'data/20-50/train\\\\25\\\\157093.jpg',\n 'data/20-50/train\\\\44\\\\150409.jpg',\n 'data/20-50/train\\\\21\\\\175629.jpg',\n 'data/20-50/train\\\\37\\\\155056.jpg',\n 'data/20-50/train\\\\35\\\\174829.jpg',\n 'data/20-50/train\\\\45\\\\167875.jpg',\n 'data/20-50/train\\\\28\\\\146191.jpg',\n 'data/20-50/train\\\\45\\\\126147.jpg',\n 'data/20-50/train\\\\48\\\\173009.jpg',\n 'data/20-50/train\\\\43\\\\146849.jpg',\n 'data/20-50/train\\\\36\\\\171848.jpg',\n 'data/20-50/train\\\\26\\\\156630.jpg',\n 'data/20-50/train\\\\28\\\\172647.jpg',\n 'data/20-50/train\\\\27\\\\176996.jpg',\n 'data/20-50/train\\\\46\\\\155679.jpg',\n 'data/20-50/train\\\\22\\\\129408.jpg',\n 'data/20-50/train\\\\37\\\\139373.jpg',\n 'data/20-50/train\\\\22\\\\111287.jpg',\n 'data/20-50/train\\\\29\\\\147608.jpg',\n 'data/20-50/train\\\\34\\\\177527.jpg',\n 'data/20-50/train\\\\27\\\\171986.jpg',\n 'data/20-50/train\\\\36\\\\165296.jpg',\n 'data/20-50/train\\\\40\\\\156581.jpg',\n 'data/20-50/train\\\\26\\\\157105.jpg',\n 'data/20-50/train\\\\22\\\\159433.jpg',\n 'data/20-50/train\\\\30\\\\149544.jpg',\n 'data/20-50/train\\\\36\\\\159838.jpg',\n 'data/20-50/train\\\\47\\\\133522.jpg',\n 'data/20-50/train\\\\34\\\\161361.jpg',\n 'data/20-50/train\\\\39\\\\175852.jpg',\n 'data/20-50/train\\\\21\\\\133071.jpg',\n 'data/20-50/train\\\\45\\\\143915.jpg',\n 'data/20-50/train\\\\23\\\\168592.jpg',\n 'data/20-50/train\\\\29\\\\170145.jpg',\n 'data/20-50/train\\\\39\\\\145549.jpg',\n 'data/20-50/train\\\\20\\\\132570.jpg',\n 'data/20-50/train\\\\44\\\\158261.jpg',\n 'data/20-50/train\\\\47\\\\131502.jpg',\n 'data/20-50/train\\\\41\\\\156042.jpg',\n 'data/20-50/train\\\\29\\\\171280.jpg',\n 'data/20-50/train\\\\48\\\\165500.jpg',\n 'data/20-50/train\\\\38\\\\144830.jpg',\n 'data/20-50/train\\\\39\\\\161595.jpg',\n 'data/20-50/train\\\\21\\\\113588.jpg',\n 'data/20-50/train\\\\31\\\\169606.jpg',\n 'data/20-50/train\\\\32\\\\166820.jpg',\n 'data/20-50/train\\\\21\\\\152023.jpg',\n 'data/20-50/train\\\\38\\\\149935.jpg',\n 'data/20-50/train\\\\22\\\\136106.jpg',\n 'data/20-50/train\\\\22\\\\122345.jpg',\n 'data/20-50/train\\\\45\\\\150820.jpg',\n 'data/20-50/train\\\\20\\\\138755.jpg',\n 'data/20-50/train\\\\24\\\\169693.jpg',\n 'data/20-50/train\\\\29\\\\165212.jpg',\n 'data/20-50/train\\\\40\\\\177605.jpg',\n 'data/20-50/train\\\\50\\\\170990.jpg',\n 'data/20-50/train\\\\30\\\\145532.jpg',\n 'data/20-50/train\\\\46\\\\140207.jpg',\n 'data/20-50/train\\\\20\\\\146756.jpg',\n 'data/20-50/train\\\\22\\\\120856.jpg',\n 'data/20-50/train\\\\34\\\\162721.jpg',\n 'data/20-50/train\\\\37\\\\138323.jpg',\n 'data/20-50/train\\\\22\\\\122296.jpg',\n 'data/20-50/train\\\\23\\\\157400.jpg',\n 'data/20-50/train\\\\36\\\\164105.jpg',\n 'data/20-50/train\\\\42\\\\144933.jpg',\n 'data/20-50/train\\\\21\\\\168486.jpg',\n 'data/20-50/train\\\\25\\\\145055.jpg',\n 'data/20-50/train\\\\50\\\\142083.jpg',\n 'data/20-50/train\\\\41\\\\168699.jpg',\n 'data/20-50/train\\\\45\\\\156511.jpg',\n 'data/20-50/train\\\\23\\\\148054.jpg',\n 'data/20-50/train\\\\31\\\\152535.jpg',\n 'data/20-50/train\\\\31\\\\156177.jpg',\n 'data/20-50/train\\\\26\\\\178032.jpg',\n 'data/20-50/train\\\\24\\\\155066.jpg',\n 'data/20-50/train\\\\29\\\\154738.jpg',\n 'data/20-50/train\\\\21\\\\121722.jpg',\n 'data/20-50/train\\\\36\\\\152270.jpg',\n 'data/20-50/train\\\\44\\\\156381.jpg',\n 'data/20-50/train\\\\24\\\\169188.jpg',\n 'data/20-50/train\\\\50\\\\120889.jpg',\n 'data/20-50/train\\\\45\\\\162893.jpg',\n 'data/20-50/train\\\\41\\\\174082.jpg',\n 'data/20-50/train\\\\38\\\\159557.jpg',\n 'data/20-50/train\\\\27\\\\161092.jpg',\n 'data/20-50/train\\\\22\\\\175463.jpg',\n 'data/20-50/train\\\\39\\\\168820.jpg',\n 'data/20-50/train\\\\43\\\\138281.jpg',\n 'data/20-50/train\\\\24\\\\166126.jpg',\n 'data/20-50/train\\\\34\\\\146310.jpg',\n 'data/20-50/train\\\\44\\\\146262.jpg',\n 'data/20-50/train\\\\24\\\\165019.jpg',\n 'data/20-50/train\\\\26\\\\159225.jpg',\n 'data/20-50/train\\\\21\\\\119661.jpg',\n 'data/20-50/train\\\\38\\\\141090.jpg',\n 'data/20-50/train\\\\29\\\\166910.jpg',\n 'data/20-50/train\\\\35\\\\172613.jpg',\n 'data/20-50/train\\\\46\\\\132372.jpg',\n 'data/20-50/train\\\\30\\\\166484.jpg',\n 'data/20-50/train\\\\28\\\\163402.jpg',\n 'data/20-50/train\\\\27\\\\168720.jpg',\n 'data/20-50/train\\\\24\\\\173212.jpg',\n 'data/20-50/train\\\\42\\\\163697.jpg',\n 'data/20-50/train\\\\22\\\\111984.jpg',\n 'data/20-50/train\\\\37\\\\146789.jpg',\n 'data/20-50/train\\\\31\\\\177865.jpg',\n 'data/20-50/train\\\\44\\\\168274.jpg',\n 'data/20-50/train\\\\49\\\\125258.jpg',\n 'data/20-50/train\\\\40\\\\145947.jpg',\n 'data/20-50/train\\\\45\\\\167923.jpg',\n 'data/20-50/train\\\\22\\\\137717.jpg',\n 'data/20-50/train\\\\44\\\\143047.jpg',\n 'data/20-50/train\\\\43\\\\161446.jpg',\n 'data/20-50/train\\\\33\\\\162447.jpg',\n 'data/20-50/train\\\\22\\\\171712.jpg',\n 'data/20-50/train\\\\36\\\\152430.jpg',\n 'data/20-50/train\\\\34\\\\140674.jpg',\n 'data/20-50/train\\\\31\\\\164859.jpg',\n 'data/20-50/train\\\\22\\\\136317.jpg',\n 'data/20-50/train\\\\21\\\\138161.jpg',\n 'data/20-50/train\\\\32\\\\160099.jpg',\n 'data/20-50/train\\\\33\\\\179067.jpg',\n 'data/20-50/train\\\\34\\\\159810.jpg',\n 'data/20-50/train\\\\41\\\\154217.jpg',\n 'data/20-50/train\\\\23\\\\173863.jpg',\n 'data/20-50/train\\\\22\\\\136779.jpg',\n 'data/20-50/train\\\\35\\\\144838.jpg',\n 'data/20-50/train\\\\42\\\\154544.jpg',\n 'data/20-50/train\\\\46\\\\158991.jpg',\n 'data/20-50/train\\\\28\\\\163749.jpg',\n 'data/20-50/train\\\\20\\\\154038.jpg',\n 'data/20-50/train\\\\40\\\\148378.jpg',\n 'data/20-50/train\\\\26\\\\177063.jpg',\n 'data/20-50/train\\\\35\\\\150049.jpg',\n 'data/20-50/train\\\\24\\\\143711.jpg',\n 'data/20-50/train\\\\29\\\\175697.jpg',\n 'data/20-50/train\\\\41\\\\152441.jpg',\n 'data/20-50/train\\\\44\\\\169871.jpg',\n 'data/20-50/train\\\\24\\\\176932.jpg',\n 'data/20-50/train\\\\36\\\\173652.jpg',\n 'data/20-50/train\\\\33\\\\155799.jpg',\n 'data/20-50/train\\\\45\\\\163109.jpg',\n 'data/20-50/train\\\\26\\\\154915.jpg',\n 'data/20-50/train\\\\32\\\\149420.jpg',\n 'data/20-50/train\\\\38\\\\175536.jpg',\n 'data/20-50/train\\\\26\\\\177962.jpg',\n 'data/20-50/train\\\\46\\\\138683.jpg',\n 'data/20-50/train\\\\31\\\\168964.jpg',\n 'data/20-50/train\\\\29\\\\169221.jpg',\n 'data/20-50/train\\\\41\\\\141761.jpg',\n 'data/20-50/train\\\\28\\\\168215.jpg',\n 'data/20-50/train\\\\45\\\\171670.jpg',\n 'data/20-50/train\\\\26\\\\179263.jpg',\n 'data/20-50/train\\\\33\\\\153011.jpg',\n 'data/20-50/train\\\\28\\\\158248.jpg',\n 'data/20-50/train\\\\45\\\\176166.jpg',\n 'data/20-50/train\\\\34\\\\172139.jpg',\n 'data/20-50/train\\\\28\\\\148354.jpg',\n 'data/20-50/train\\\\25\\\\174094.jpg',\n 'data/20-50/train\\\\34\\\\162689.jpg',\n 'data/20-50/train\\\\33\\\\164442.jpg',\n 'data/20-50/train\\\\31\\\\163272.jpg',\n 'data/20-50/train\\\\44\\\\132582.jpg',\n 'data/20-50/train\\\\33\\\\171349.jpg',\n 'data/20-50/train\\\\39\\\\177766.jpg',\n 'data/20-50/train\\\\44\\\\165821.jpg',\n 'data/20-50/train\\\\32\\\\170637.jpg',\n 'data/20-50/train\\\\24\\\\172166.jpg',\n 'data/20-50/train\\\\45\\\\130796.jpg',\n 'data/20-50/train\\\\41\\\\171288.jpg',\n 'data/20-50/train\\\\26\\\\154613.jpg',\n 'data/20-50/train\\\\47\\\\123873.jpg',\n 'data/20-50/train\\\\32\\\\173367.jpg',\n 'data/20-50/train\\\\29\\\\167793.jpg',\n 'data/20-50/train\\\\21\\\\177795.jpg',\n 'data/20-50/train\\\\30\\\\179274.jpg',\n 'data/20-50/train\\\\43\\\\174909.jpg',\n 'data/20-50/train\\\\44\\\\178940.jpg',\n 'data/20-50/train\\\\30\\\\177165.jpg',\n 'data/20-50/train\\\\47\\\\162454.jpg',\n 'data/20-50/train\\\\33\\\\162068.jpg',\n 'data/20-50/train\\\\24\\\\157106.jpg',\n 'data/20-50/train\\\\35\\\\147474.jpg',\n 'data/20-50/train\\\\37\\\\153231.jpg',\n 'data/20-50/train\\\\30\\\\157633.jpg',\n 'data/20-50/train\\\\46\\\\162849.jpg',\n 'data/20-50/train\\\\48\\\\129700.jpg',\n 'data/20-50/train\\\\28\\\\175759.jpg',\n 'data/20-50/train\\\\36\\\\178963.jpg',\n 'data/20-50/train\\\\38\\\\151587.jpg',\n 'data/20-50/train\\\\33\\\\174323.jpg',\n 'data/20-50/train\\\\39\\\\144745.jpg',\n 'data/20-50/train\\\\26\\\\167557.jpg',\n 'data/20-50/train\\\\48\\\\1287.jpg',\n 'data/20-50/train\\\\47\\\\164862.jpg',\n 'data/20-50/train\\\\42\\\\167339.jpg',\n 'data/20-50/train\\\\44\\\\161028.jpg',\n 'data/20-50/train\\\\23\\\\149419.jpg',\n 'data/20-50/train\\\\36\\\\156799.jpg',\n 'data/20-50/train\\\\48\\\\167806.jpg',\n 'data/20-50/train\\\\45\\\\133306.jpg',\n 'data/20-50/train\\\\38\\\\150931.jpg',\n 'data/20-50/train\\\\37\\\\145399.jpg',\n 'data/20-50/train\\\\36\\\\153521.jpg',\n 'data/20-50/train\\\\33\\\\148611.jpg',\n 'data/20-50/train\\\\31\\\\161480.jpg',\n 'data/20-50/train\\\\26\\\\152096.jpg',\n 'data/20-50/train\\\\34\\\\157140.jpg',\n 'data/20-50/train\\\\38\\\\177394.jpg',\n 'data/20-50/train\\\\45\\\\178249.jpg',\n 'data/20-50/train\\\\26\\\\169420.jpg',\n 'data/20-50/train\\\\22\\\\167080.jpg',\n 'data/20-50/train\\\\50\\\\135086.jpg',\n 'data/20-50/train\\\\36\\\\166533.jpg',\n 'data/20-50/train\\\\40\\\\147500.jpg',\n 'data/20-50/train\\\\29\\\\177323.jpg',\n 'data/20-50/train\\\\28\\\\166080.jpg',\n 'data/20-50/train\\\\50\\\\162608.jpg',\n 'data/20-50/train\\\\37\\\\143312.jpg',\n 'data/20-50/train\\\\22\\\\153880.jpg',\n 'data/20-50/train\\\\22\\\\141682.jpg',\n 'data/20-50/train\\\\50\\\\179566.jpg',\n 'data/20-50/train\\\\30\\\\161392.jpg',\n 'data/20-50/train\\\\22\\\\117861.jpg',\n 'data/20-50/train\\\\43\\\\145397.jpg',\n 'data/20-50/train\\\\32\\\\155949.jpg',\n 'data/20-50/train\\\\30\\\\169197.jpg',\n 'data/20-50/train\\\\44\\\\163165.jpg',\n 'data/20-50/train\\\\38\\\\167508.jpg',\n 'data/20-50/train\\\\20\\\\128597.jpg',\n 'data/20-50/train\\\\35\\\\170615.jpg',\n 'data/20-50/train\\\\35\\\\150183.jpg',\n 'data/20-50/train\\\\47\\\\126449.jpg',\n 'data/20-50/train\\\\48\\\\135723.jpg',\n 'data/20-50/train\\\\36\\\\161565.jpg',\n 'data/20-50/train\\\\44\\\\168046.jpg',\n 'data/20-50/train\\\\48\\\\127967.jpg',\n 'data/20-50/train\\\\41\\\\150465.jpg',\n 'data/20-50/train\\\\38\\\\156429.jpg',\n 'data/20-50/train\\\\50\\\\145014.jpg',\n 'data/20-50/train\\\\33\\\\143164.jpg',\n 'data/20-50/train\\\\47\\\\171527.jpg',\n 'data/20-50/train\\\\22\\\\167143.jpg',\n 'data/20-50/train\\\\46\\\\164892.jpg',\n 'data/20-50/train\\\\37\\\\141813.jpg',\n 'data/20-50/train\\\\20\\\\129158.jpg',\n 'data/20-50/train\\\\36\\\\159179.jpg',\n 'data/20-50/train\\\\30\\\\172599.jpg',\n 'data/20-50/train\\\\41\\\\157678.jpg',\n 'data/20-50/train\\\\37\\\\160197.jpg',\n 'data/20-50/train\\\\48\\\\137952.jpg',\n 'data/20-50/train\\\\40\\\\178958.jpg',\n 'data/20-50/train\\\\37\\\\149519.jpg',\n 'data/20-50/train\\\\25\\\\165401.jpg',\n ...]"
     },
     "execution_count": 11,
     "metadata": {},
     "output_type": "execute_result"
    }
   ],
   "source": [
    "train_data"
   ],
   "metadata": {
    "collapsed": false,
    "ExecuteTime": {
     "end_time": "2024-06-10T12:51:46.761062100Z",
     "start_time": "2024-06-10T12:51:46.706409700Z"
    }
   }
  },
  {
   "cell_type": "code",
   "execution_count": 12,
   "outputs": [],
   "source": [
    "import os\n",
    "import cv2\n",
    "IMG_RESOLUTION = (224, 224)\n",
    "\n",
    "def my_data_generator_train():\n",
    "  for path in train_data:\n",
    "    image = cv2.imread(path)\n",
    "    image_resized = cv2.resize(image, IMG_RESOLUTION)\n",
    "    image_normalized = image_resized / 255.0\n",
    "    image_flattened = image_normalized.flatten()\n",
    "    sample = image_flattened\n",
    "    parts = path.split('\\\\')\n",
    "    label = parts[-2]\n",
    "    yield sample, (label,)"
   ],
   "metadata": {
    "collapsed": false,
    "ExecuteTime": {
     "end_time": "2024-06-10T12:51:46.761568200Z",
     "start_time": "2024-06-10T12:51:46.728871600Z"
    }
   }
  },
  {
   "cell_type": "code",
   "execution_count": 32,
   "outputs": [],
   "source": [
    "def my_data_generator_val():\n",
    "  for path in val_data:\n",
    "\n",
    "    image = cv2.imread(path)\n",
    "    image_resized = cv2.resize(image, IMG_RESOLUTION)\n",
    "    image_normalized = image_resized / 255.0\n",
    "    image_flattened = image_normalized.flatten()\n",
    "    sample = image_flattened\n",
    "    parts = path.split('\\\\')\n",
    "    label = parts[-2]\n",
    "    yield sample, (label,)"
   ],
   "metadata": {
    "collapsed": false,
    "ExecuteTime": {
     "end_time": "2024-06-10T15:55:13.407977900Z",
     "start_time": "2024-06-10T15:55:13.402334900Z"
    }
   }
  },
  {
   "cell_type": "code",
   "execution_count": 33,
   "outputs": [
    {
     "data": {
      "text/plain": "<generator object my_data_generator_val at 0x000001EA34A67DE0>"
     },
     "execution_count": 33,
     "metadata": {},
     "output_type": "execute_result"
    }
   ],
   "source": [
    "my_data_generator_val()"
   ],
   "metadata": {
    "collapsed": false,
    "ExecuteTime": {
     "end_time": "2024-06-10T15:55:14.893787700Z",
     "start_time": "2024-06-10T15:55:14.872639300Z"
    }
   }
  },
  {
   "cell_type": "code",
   "execution_count": 34,
   "outputs": [],
   "source": [
    "import tensorflow as tf\n",
    "\n",
    "batch_size = 32\n",
    "x_shape = (IMG_RESOLUTION[0] * IMG_RESOLUTION[1] * 3,)\n",
    "x_type = tf.float32\n",
    "y_shape = (1,)\n",
    "y_type = tf.int32\n",
    "\n",
    "train_ds = tf.data.Dataset.from_generator(my_data_generator_train, output_signature=(\n",
    "         tf.TensorSpec(shape=x_shape, dtype=x_type),\n",
    "         tf.TensorSpec(shape=y_shape, dtype=y_type)))\n",
    "\n",
    "train_ds = train_ds.shuffle(100)\n",
    "train_ds = train_ds.batch(batch_size)\n",
    "\n",
    "val_ds = tf.data.Dataset.from_generator(my_data_generator_val, output_signature=(\n",
    "         tf.TensorSpec(shape=x_shape, dtype=x_type),\n",
    "         tf.TensorSpec(shape=y_shape, dtype=y_type)))\n",
    "\n",
    "val_ds = val_ds.batch(batch_size)"
   ],
   "metadata": {
    "collapsed": false,
    "ExecuteTime": {
     "end_time": "2024-06-10T16:09:17.961994500Z",
     "start_time": "2024-06-10T16:08:40.710897800Z"
    }
   }
  },
  {
   "cell_type": "code",
   "execution_count": 41,
   "outputs": [
    {
     "data": {
      "text/plain": "(150528,)"
     },
     "execution_count": 41,
     "metadata": {},
     "output_type": "execute_result"
    }
   ],
   "source": [
    "x_shape"
   ],
   "metadata": {
    "collapsed": false,
    "ExecuteTime": {
     "end_time": "2024-06-10T17:11:38.169355100Z",
     "start_time": "2024-06-10T17:11:38.118538500Z"
    }
   }
  },
  {
   "cell_type": "code",
   "execution_count": 44,
   "outputs": [],
   "source": [
    "from tensorflow.keras import layers, models, regularizers\n",
    "from tensorflow.keras.callbacks import EarlyStopping\n",
    "\n",
    "model = models.Sequential([\n",
    "    tf.keras.layers.Input(shape=x_shape),\n",
    "    tf.keras.layers.Dense(512, activation='relu', kernel_regularizer=regularizers.l2(0.01)),\n",
    "    tf.keras.layers.Dense(256, activation='relu', kernel_regularizer=regularizers.l2(0.01)),\n",
    "    tf.keras.layers.Dense(128, activation='relu', kernel_regularizer=regularizers.l2(0.01)),\n",
    "    tf.keras.layers.Dense(64, activation='relu', kernel_regularizer=regularizers.l2(0.01)),\n",
    "    tf.keras.layers.Dense(32, activation='relu', kernel_regularizer=regularizers.l2(0.01)),\n",
    "    tf.keras.layers.Dense(51, activation='softmax')\n",
    "])"
   ],
   "metadata": {
    "collapsed": false,
    "ExecuteTime": {
     "end_time": "2024-06-10T17:20:36.056315100Z",
     "start_time": "2024-06-10T17:20:35.302757500Z"
    }
   }
  },
  {
   "cell_type": "code",
   "execution_count": 45,
   "outputs": [],
   "source": [
    "model.compile(optimizer='adam',\n",
    "              loss='sparse_categorical_crossentropy',\n",
    "              metrics=['accuracy'])"
   ],
   "metadata": {
    "collapsed": false,
    "ExecuteTime": {
     "end_time": "2024-06-10T17:20:42.966657300Z",
     "start_time": "2024-06-10T17:20:42.934246Z"
    }
   }
  },
  {
   "cell_type": "code",
   "execution_count": 48,
   "outputs": [],
   "source": [
    "early_stopping = EarlyStopping(monitor='val_loss', patience=5, restore_best_weights=True)"
   ],
   "metadata": {
    "collapsed": false,
    "ExecuteTime": {
     "end_time": "2024-06-10T17:22:04.248826200Z",
     "start_time": "2024-06-10T17:22:04.245308800Z"
    }
   }
  },
  {
   "cell_type": "code",
   "execution_count": 49,
   "outputs": [
    {
     "name": "stdout",
     "output_type": "stream",
     "text": [
      "Epoch 1/50\n",
      "    836/Unknown \u001B[1m1056s\u001B[0m 1s/step - accuracy: 0.0372 - loss: 9.8449"
     ]
    },
    {
     "name": "stderr",
     "output_type": "stream",
     "text": [
      "C:\\Program Files\\WindowsApps\\PythonSoftwareFoundation.Python.3.11_3.11.2544.0_x64__qbz5n2kfra8p0\\Lib\\contextlib.py:158: UserWarning: Your input ran out of data; interrupting training. Make sure that your dataset or generator can generate at least `steps_per_epoch * epochs` batches. You may need to use the `.repeat()` function when building your dataset.\n",
      "  self.gen.throw(typ, value, traceback)\n"
     ]
    },
    {
     "name": "stdout",
     "output_type": "stream",
     "text": [
      "\u001B[1m836/836\u001B[0m \u001B[32m━━━━━━━━━━━━━━━━━━━━\u001B[0m\u001B[37m\u001B[0m \u001B[1m1171s\u001B[0m 1s/step - accuracy: 0.0372 - loss: 9.8406 - val_accuracy: 0.0438 - val_loss: 4.6088\n",
      "Epoch 2/50\n",
      "\u001B[1m836/836\u001B[0m \u001B[32m━━━━━━━━━━━━━━━━━━━━\u001B[0m\u001B[37m\u001B[0m \u001B[1m1058s\u001B[0m 1s/step - accuracy: 0.0414 - loss: 4.4733 - val_accuracy: 0.0438 - val_loss: 4.0921\n",
      "Epoch 3/50\n",
      "\u001B[1m836/836\u001B[0m \u001B[32m━━━━━━━━━━━━━━━━━━━━\u001B[0m\u001B[37m\u001B[0m \u001B[1m852s\u001B[0m 1s/step - accuracy: 0.0412 - loss: 4.0259 - val_accuracy: 0.0438 - val_loss: 3.8035\n",
      "Epoch 4/50\n",
      "\u001B[1m836/836\u001B[0m \u001B[32m━━━━━━━━━━━━━━━━━━━━\u001B[0m\u001B[37m\u001B[0m \u001B[1m1380s\u001B[0m 2s/step - accuracy: 0.0415 - loss: 3.7707 - val_accuracy: 0.0438 - val_loss: 3.6300\n",
      "Epoch 5/50\n",
      "\u001B[1m836/836\u001B[0m \u001B[32m━━━━━━━━━━━━━━━━━━━━\u001B[0m\u001B[37m\u001B[0m \u001B[1m1456s\u001B[0m 2s/step - accuracy: 0.0387 - loss: 3.6191 - val_accuracy: 0.0435 - val_loss: 3.5322\n",
      "Epoch 6/50\n",
      "\u001B[1m836/836\u001B[0m \u001B[32m━━━━━━━━━━━━━━━━━━━━\u001B[0m\u001B[37m\u001B[0m \u001B[1m1380s\u001B[0m 2s/step - accuracy: 0.0403 - loss: 3.5296 - val_accuracy: 0.0438 - val_loss: 3.4703\n",
      "Epoch 7/50\n",
      "\u001B[1m836/836\u001B[0m \u001B[32m━━━━━━━━━━━━━━━━━━━━\u001B[0m\u001B[37m\u001B[0m \u001B[1m916s\u001B[0m 1s/step - accuracy: 0.0400 - loss: 3.4771 - val_accuracy: 0.0438 - val_loss: 3.4388\n",
      "Epoch 8/50\n",
      "\u001B[1m836/836\u001B[0m \u001B[32m━━━━━━━━━━━━━━━━━━━━\u001B[0m\u001B[37m\u001B[0m \u001B[1m864s\u001B[0m 1s/step - accuracy: 0.0400 - loss: 3.4503 - val_accuracy: 0.0438 - val_loss: 3.4242\n",
      "Epoch 9/50\n",
      "\u001B[1m836/836\u001B[0m \u001B[32m━━━━━━━━━━━━━━━━━━━━\u001B[0m\u001B[37m\u001B[0m \u001B[1m842s\u001B[0m 1s/step - accuracy: 0.0393 - loss: 3.4382 - val_accuracy: 0.0438 - val_loss: 3.4181\n",
      "Epoch 10/50\n",
      "\u001B[1m836/836\u001B[0m \u001B[32m━━━━━━━━━━━━━━━━━━━━\u001B[0m\u001B[37m\u001B[0m \u001B[1m835s\u001B[0m 999ms/step - accuracy: 0.0399 - loss: 3.4334 - val_accuracy: 0.0438 - val_loss: 3.4160\n",
      "Epoch 11/50\n",
      "\u001B[1m836/836\u001B[0m \u001B[32m━━━━━━━━━━━━━━━━━━━━\u001B[0m\u001B[37m\u001B[0m \u001B[1m828s\u001B[0m 990ms/step - accuracy: 0.0397 - loss: 3.4316 - val_accuracy: 0.0438 - val_loss: 3.4153\n",
      "Epoch 12/50\n",
      "\u001B[1m836/836\u001B[0m \u001B[32m━━━━━━━━━━━━━━━━━━━━\u001B[0m\u001B[37m\u001B[0m \u001B[1m1035s\u001B[0m 1s/step - accuracy: 0.0399 - loss: 3.4310 - val_accuracy: 0.0438 - val_loss: 3.4149\n",
      "Epoch 13/50\n",
      "\u001B[1m836/836\u001B[0m \u001B[32m━━━━━━━━━━━━━━━━━━━━\u001B[0m\u001B[37m\u001B[0m \u001B[1m975s\u001B[0m 1s/step - accuracy: 0.0401 - loss: 3.4307 - val_accuracy: 0.0438 - val_loss: 3.4147\n",
      "Epoch 14/50\n",
      "\u001B[1m836/836\u001B[0m \u001B[32m━━━━━━━━━━━━━━━━━━━━\u001B[0m\u001B[37m\u001B[0m \u001B[1m851s\u001B[0m 1s/step - accuracy: 0.0399 - loss: 3.4306 - val_accuracy: 0.0438 - val_loss: 3.4146\n",
      "Epoch 15/50\n",
      "\u001B[1m836/836\u001B[0m \u001B[32m━━━━━━━━━━━━━━━━━━━━\u001B[0m\u001B[37m\u001B[0m \u001B[1m806s\u001B[0m 964ms/step - accuracy: 0.0403 - loss: 3.4304 - val_accuracy: 0.0438 - val_loss: 3.4145\n",
      "Epoch 16/50\n",
      "\u001B[1m836/836\u001B[0m \u001B[32m━━━━━━━━━━━━━━━━━━━━\u001B[0m\u001B[37m\u001B[0m \u001B[1m802s\u001B[0m 959ms/step - accuracy: 0.0392 - loss: 3.4303 - val_accuracy: 0.0438 - val_loss: 3.4144\n",
      "Epoch 17/50\n",
      "\u001B[1m836/836\u001B[0m \u001B[32m━━━━━━━━━━━━━━━━━━━━\u001B[0m\u001B[37m\u001B[0m \u001B[1m799s\u001B[0m 956ms/step - accuracy: 0.0390 - loss: 3.4302 - val_accuracy: 0.0438 - val_loss: 3.4144\n",
      "Epoch 18/50\n",
      "\u001B[1m836/836\u001B[0m \u001B[32m━━━━━━━━━━━━━━━━━━━━\u001B[0m\u001B[37m\u001B[0m \u001B[1m803s\u001B[0m 960ms/step - accuracy: 0.0392 - loss: 3.4301 - val_accuracy: 0.0438 - val_loss: 3.4143\n",
      "Epoch 19/50\n",
      "\u001B[1m836/836\u001B[0m \u001B[32m━━━━━━━━━━━━━━━━━━━━\u001B[0m\u001B[37m\u001B[0m \u001B[1m802s\u001B[0m 959ms/step - accuracy: 0.0395 - loss: 3.4301 - val_accuracy: 0.0438 - val_loss: 3.4143\n",
      "Epoch 20/50\n",
      "\u001B[1m836/836\u001B[0m \u001B[32m━━━━━━━━━━━━━━━━━━━━\u001B[0m\u001B[37m\u001B[0m \u001B[1m799s\u001B[0m 955ms/step - accuracy: 0.0395 - loss: 3.4299 - val_accuracy: 0.0438 - val_loss: 3.4142\n",
      "Epoch 21/50\n",
      "\u001B[1m836/836\u001B[0m \u001B[32m━━━━━━━━━━━━━━━━━━━━\u001B[0m\u001B[37m\u001B[0m \u001B[1m803s\u001B[0m 960ms/step - accuracy: 0.0390 - loss: 3.4299 - val_accuracy: 0.0438 - val_loss: 3.4141\n",
      "Epoch 22/50\n",
      "\u001B[1m836/836\u001B[0m \u001B[32m━━━━━━━━━━━━━━━━━━━━\u001B[0m\u001B[37m\u001B[0m \u001B[1m801s\u001B[0m 958ms/step - accuracy: 0.0389 - loss: 3.4299 - val_accuracy: 0.0438 - val_loss: 3.4141\n",
      "Epoch 23/50\n",
      "\u001B[1m836/836\u001B[0m \u001B[32m━━━━━━━━━━━━━━━━━━━━\u001B[0m\u001B[37m\u001B[0m \u001B[1m804s\u001B[0m 962ms/step - accuracy: 0.0390 - loss: 3.4299 - val_accuracy: 0.0438 - val_loss: 3.4141\n",
      "Epoch 24/50\n",
      "\u001B[1m836/836\u001B[0m \u001B[32m━━━━━━━━━━━━━━━━━━━━\u001B[0m\u001B[37m\u001B[0m \u001B[1m804s\u001B[0m 962ms/step - accuracy: 0.0390 - loss: 3.4298 - val_accuracy: 0.0438 - val_loss: 3.4140\n",
      "Epoch 25/50\n",
      "\u001B[1m836/836\u001B[0m \u001B[32m━━━━━━━━━━━━━━━━━━━━\u001B[0m\u001B[37m\u001B[0m \u001B[1m799s\u001B[0m 955ms/step - accuracy: 0.0393 - loss: 3.4298 - val_accuracy: 0.0438 - val_loss: 3.4140\n",
      "Epoch 26/50\n",
      "\u001B[1m836/836\u001B[0m \u001B[32m━━━━━━━━━━━━━━━━━━━━\u001B[0m\u001B[37m\u001B[0m \u001B[1m800s\u001B[0m 956ms/step - accuracy: 0.0398 - loss: 3.4298 - val_accuracy: 0.0438 - val_loss: 3.4140\n",
      "Epoch 27/50\n",
      "\u001B[1m836/836\u001B[0m \u001B[32m━━━━━━━━━━━━━━━━━━━━\u001B[0m\u001B[37m\u001B[0m \u001B[1m797s\u001B[0m 953ms/step - accuracy: 0.0400 - loss: 3.4297 - val_accuracy: 0.0438 - val_loss: 3.4140\n",
      "Epoch 28/50\n",
      "\u001B[1m836/836\u001B[0m \u001B[32m━━━━━━━━━━━━━━━━━━━━\u001B[0m\u001B[37m\u001B[0m \u001B[1m804s\u001B[0m 962ms/step - accuracy: 0.0401 - loss: 3.4296 - val_accuracy: 0.0438 - val_loss: 3.4142\n",
      "Epoch 29/50\n",
      "\u001B[1m836/836\u001B[0m \u001B[32m━━━━━━━━━━━━━━━━━━━━\u001B[0m\u001B[37m\u001B[0m \u001B[1m802s\u001B[0m 959ms/step - accuracy: 0.0398 - loss: 3.4299 - val_accuracy: 0.0438 - val_loss: 3.4141\n",
      "Epoch 30/50\n",
      "\u001B[1m836/836\u001B[0m \u001B[32m━━━━━━━━━━━━━━━━━━━━\u001B[0m\u001B[37m\u001B[0m \u001B[1m804s\u001B[0m 961ms/step - accuracy: 0.0397 - loss: 3.4296 - val_accuracy: 0.0438 - val_loss: 3.4141\n",
      "Epoch 31/50\n",
      "\u001B[1m836/836\u001B[0m \u001B[32m━━━━━━━━━━━━━━━━━━━━\u001B[0m\u001B[37m\u001B[0m \u001B[1m802s\u001B[0m 958ms/step - accuracy: 0.0395 - loss: 3.4298 - val_accuracy: 0.0438 - val_loss: 3.4140\n",
      "Epoch 32/50\n",
      "\u001B[1m836/836\u001B[0m \u001B[32m━━━━━━━━━━━━━━━━━━━━\u001B[0m\u001B[37m\u001B[0m \u001B[1m800s\u001B[0m 956ms/step - accuracy: 0.0396 - loss: 3.4296 - val_accuracy: 0.0438 - val_loss: 3.4142\n"
     ]
    },
    {
     "data": {
      "text/plain": "<keras.src.callbacks.history.History at 0x1ea941364d0>"
     },
     "execution_count": 49,
     "metadata": {},
     "output_type": "execute_result"
    }
   ],
   "source": [
    "model.fit(train_ds, validation_data=val_ds, epochs=50, callbacks=[early_stopping])"
   ],
   "metadata": {
    "collapsed": false,
    "ExecuteTime": {
     "end_time": "2024-06-11T01:23:26.443077300Z",
     "start_time": "2024-06-10T17:22:11.311562500Z"
    }
   }
  },
  {
   "cell_type": "code",
   "execution_count": null,
   "outputs": [],
   "source": [],
   "metadata": {
    "collapsed": false
   }
  }
 ],
 "metadata": {
  "kernelspec": {
   "display_name": "Python 3",
   "language": "python",
   "name": "python3"
  },
  "language_info": {
   "codemirror_mode": {
    "name": "ipython",
    "version": 2
   },
   "file_extension": ".py",
   "mimetype": "text/x-python",
   "name": "python",
   "nbconvert_exporter": "python",
   "pygments_lexer": "ipython2",
   "version": "2.7.6"
  }
 },
 "nbformat": 4,
 "nbformat_minor": 0
}
